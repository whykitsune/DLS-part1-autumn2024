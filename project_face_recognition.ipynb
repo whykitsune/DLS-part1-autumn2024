{
  "nbformat": 4,
  "nbformat_minor": 0,
  "metadata": {
    "colab": {
      "provenance": []
    },
    "kernelspec": {
      "name": "python3",
      "display_name": "Python 3"
    },
    "language_info": {
      "name": "python"
    }
  },
  "cells": [
    {
      "cell_type": "markdown",
      "source": [
        "# **Face Recognition Project**"
      ],
      "metadata": {
        "id": "9Z3GOk3q8t_q"
      }
    },
    {
      "cell_type": "markdown",
      "source": [
        "### Загрузка данных"
      ],
      "metadata": {
        "id": "ei1DGrUf9Hh5"
      }
    },
    {
      "cell_type": "code",
      "source": [
        "import requests\n",
        "from urllib.parse import urlencode"
      ],
      "metadata": {
        "id": "LFEO0Aoq_Ytz"
      },
      "execution_count": 2,
      "outputs": []
    },
    {
      "cell_type": "code",
      "execution_count": 3,
      "metadata": {
        "id": "iFF7G2ZS8n3Z"
      },
      "outputs": [],
      "source": [
        "base_url = 'https://cloud-api.yandex.net/v1/disk/public/resources/download?'\n",
        "public_key = 'https://disk.yandex.ru/d/S8f03spLIA1wrw'\n",
        "\n",
        "# Получаем загрузочную ссылку\n",
        "final_url = base_url + urlencode(dict(public_key=public_key))\n",
        "response = requests.get(final_url)\n",
        "download_url = response.json()['href']\n",
        "\n",
        "# Загружаем файл и сохраняем его\n",
        "download_response = requests.get(download_url)\n",
        "with open('downloaded_file.zip', 'wb') as f:\n",
        "    f.write(download_response.content)"
      ]
    },
    {
      "cell_type": "markdown",
      "source": [
        "Разархивируем downloaded_file.zip"
      ],
      "metadata": {
        "id": "mjsMWYe1-1Kv"
      }
    },
    {
      "cell_type": "code",
      "source": [
        "import zipfile\n",
        "\n",
        "with zipfile.ZipFile('downloaded_file.zip', 'r') as zip_ref:\n",
        "    zip_ref.extractall('extracted_files')"
      ],
      "metadata": {
        "id": "a55Gl5s9-z_7"
      },
      "execution_count": 5,
      "outputs": []
    },
    {
      "cell_type": "markdown",
      "source": [
        "Удалим ненужные файлы"
      ],
      "metadata": {
        "id": "qKvWTCeW__Dp"
      }
    },
    {
      "cell_type": "code",
      "source": [
        "import os\n",
        "\n",
        "filename = 'downloaded_file.zip'\n",
        "\n",
        "# Если файл существует, удаляем\n",
        "if os.path.exists(filename):\n",
        "    os.remove(filename)\n",
        "    print(filename + \" deleted\")"
      ],
      "metadata": {
        "colab": {
          "base_uri": "https://localhost:8080/"
        },
        "id": "dZKqujIg_boN",
        "outputId": "6e0fbddc-14f9-458f-af62-84fd3694d3b7"
      },
      "execution_count": 6,
      "outputs": [
        {
          "output_type": "stream",
          "name": "stdout",
          "text": [
            "downloaded_file.zipdeleted\n"
          ]
        }
      ]
    },
    {
      "cell_type": "code",
      "source": [
        "import shutil\n",
        "\n",
        "filename = '/content/extracted_files/__MACOSX'\n",
        "\n",
        "# Если файл существует, удаляем\n",
        "if os.path.exists(filename):\n",
        "    shutil.rmtree(filename)\n",
        "    print(filename + \" deleted\")"
      ],
      "metadata": {
        "colab": {
          "base_uri": "https://localhost:8080/"
        },
        "id": "scpZUYab_6xe",
        "outputId": "133abeeb-f135-47f0-eff9-78f511580081"
      },
      "execution_count": 8,
      "outputs": [
        {
          "output_type": "stream",
          "name": "stdout",
          "text": [
            "/content/extracted_files/__MACOSX deleted\n"
          ]
        }
      ]
    },
    {
      "cell_type": "markdown",
      "source": [
        "    Внутри:\n",
        "            - celebA_imgs — папка с выровненными картинками;\n",
        "            - celebA_anno.txt — файл с аннотацией — каждой картинке из celebA_imgs поставлен в соответствие ее id;\n",
        "            - celebA_train_split.txt — файл со сплитом на train/val/test."
      ],
      "metadata": {
        "id": "ZEJCi4Z_AtFq"
      }
    },
    {
      "cell_type": "code",
      "source": [],
      "metadata": {
        "id": "aWOFsgzRAhpn"
      },
      "execution_count": null,
      "outputs": []
    }
  ]
}